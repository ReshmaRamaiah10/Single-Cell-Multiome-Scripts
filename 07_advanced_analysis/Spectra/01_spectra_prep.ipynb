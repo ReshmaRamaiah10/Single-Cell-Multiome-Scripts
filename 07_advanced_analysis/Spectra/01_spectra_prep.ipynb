{
 "cells": [
  {
   "cell_type": "markdown",
   "id": "ef602e7f-861b-4ff4-9cf7-2e05542d3665",
   "metadata": {},
   "source": [
    "# Prepare anndata and genesets to run Spectra"
   ]
  },
  {
   "cell_type": "markdown",
   "id": "1549d3b0-8971-4e10-ae65-1b2ceb098722",
   "metadata": {},
   "source": [
    "This notebook modifies cell annotation of anndata to match the genesets.\n",
    "\n",
    "**Dataset**: MIS-C dataset\n",
    "\n",
    "**Type of cells**: All\n",
    "\n",
    "**Inputs**: Filtered anndata object, cell_annotation column and spectra gene sets (currently using `44_24-03-27_spectra_dict_lucy.json`)\n",
    "\n",
    "**Output**: Anndata and genests with modified cell_annotation"
   ]
  },
  {
   "cell_type": "code",
   "execution_count": 1,
   "id": "f19a0033-4ea8-454f-8d56-e64e634a8d3c",
   "metadata": {},
   "outputs": [],
   "source": [
    "import rpy2\n",
    "import scanpy as sc\n",
    "import numpy as np\n",
    "import pandas as pd\n",
    "import anndata\n",
    "from matplotlib import pyplot as plt\n",
    "from mpl_toolkits.axes_grid1.axes_divider import make_axes_locatable\n",
    "import seaborn as sns\n",
    "from rpy2.robjects import pandas2ri\n",
    "import warnings\n",
    "from anndata import AnnData\n",
    "import sklearn\n",
    "from sklearn.decomposition import PCA\n",
    "from scipy.sparse import csr_matrix\n",
    "import os"
   ]
  },
  {
   "cell_type": "code",
   "execution_count": 2,
   "id": "0c2f8a1a-5d75-4e19-ba45-e6c0de5f6d4c",
   "metadata": {},
   "outputs": [],
   "source": [
    "import Spectra"
   ]
  },
  {
   "cell_type": "code",
   "execution_count": 3,
   "id": "569d5f38-db65-472c-98ba-6e04ffdc8956",
   "metadata": {},
   "outputs": [],
   "source": [
    "%load_ext rpy2.ipython\n",
    "%matplotlib inline"
   ]
  },
  {
   "cell_type": "code",
   "execution_count": 4,
   "id": "d33ff16c-3741-4d7c-8b79-bd2900ecd7ff",
   "metadata": {},
   "outputs": [],
   "source": [
    "input_dir = '/data/niecr/cheongj/misc/results_seurat/anndata_obj'"
   ]
  },
  {
   "cell_type": "markdown",
   "id": "35192d28-4770-4fdc-9547-58e8069cbfc6",
   "metadata": {},
   "source": [
    "# 1. Load Data"
   ]
  },
  {
   "cell_type": "code",
   "execution_count": 21,
   "id": "7347467c-914b-4322-b2cc-9ec45edff16d",
   "metadata": {},
   "outputs": [
    {
     "data": {
      "text/plain": [
       "AnnData object with n_obs × n_vars = 149259 × 27424\n",
       "    obs: 'og_barcode', 'n_genes_by_counts', 'log1p_n_genes_by_counts', 'total_counts', 'log1p_total_counts', 'pct_counts_in_top_50_genes', 'pct_counts_in_top_100_genes', 'pct_counts_in_top_200_genes', 'pct_counts_in_top_500_genes', 'ribo_pct', 'mito_pct', 'doublet', 'doublet_score', 'orig.ident', 'nCount_RNA', 'nFeature_RNA', 'percent.mt', 'nCount_ATAC', 'nFeature_ATAC', 'orig.barcode', 'RNA_snn_res.2', 'seurat_clusters', 'nucleosome_signal', 'nucleosome_percentile', 'TSS.enrichment', 'TSS.percentile', 'pANN_0.25_0.09_2745', 'DF.classifications_0.25_0.09_2745', 'DF.classifications_0.25_0.09_2627', 'pANN_0.25_0.09_623', 'DF.classifications_0.25_0.09_623', 'DF.classifications_0.25_0.09_808', 'pANN_0.25_0.09_701', 'DF.classifications_0.25_0.09_701', 'pANN_0.25_0.09_1124', 'DF.classifications_0.25_0.09_1124', 'pANN_0.25_0.09_1500', 'DF.classifications_0.25_0.09_1500', 'pANN_0.25_0.09_1478', 'DF.classifications_0.25_0.09_1478', 'pANN_0.25_0.09_319', 'DF.classifications_0.25_0.09_319', 'pANN_0.25_0.09_789', 'DF.classifications_0.25_0.09_789', 'pANN_0.25_0.09_898', 'DF.classifications_0.25_0.09_898', 'pANN_0.25_0.09_566', 'DF.classifications_0.25_0.09_566', 'pANN_0.25_0.09_618', 'DF.classifications_0.25_0.09_618', 'pANN_0.25_0.09_819', 'DF.classifications_0.25_0.09_819', 'pANN_0.25_0.09_418', 'DF.classifications_0.25_0.09_418', 'pANN_0.25_0.09_785', 'DF.classifications_0.25_0.09_785', 'pANN_0.25_0.09_642', 'DF.classifications_0.25_0.09_642', 'pANN_0.25_0.09_412', 'DF.classifications_0.25_0.09_412', 'pANN_0.25_0.09_180', 'DF.classifications_0.25_0.09_180', 'pANN_0.25_0.09_1250', 'DF.classifications_0.25_0.09_1250', 'pANN_0.25_0.09_848', 'DF.classifications_0.25_0.09_848', 'RNA_snn_res.1', 'harmony_snn_res.0.4', 'harmony_snn_res.1', 'covid_celltype', 'covidATAC_celltype', 'harmony_snn_res.0.5', 'harmony_snn_res.0.6', 'harmony_snn_res.0.7', 'RNA_snn_res.0.6', 'RNA_snn_res.0.8', 'celltype_v1', 'umap1', 'umap2', 'status', 'assignment', 'genotype_ID', 'REDCap Participant ID', 'Sample Barcode', 'sample.id', 'Visit', '# PBMC Aliquots', 'RNAseq Sample', 'Age', 'Gender', 'Race', 'Ethnicity', 'Disease.Status', 'Solumedrol', 'IVIG', 'Cardiac', 'Renal', 'Respiratory', 'Hematologic', 'Gastrointestinal', 'Dermatological', 'Neurological', 'ICU Length (Days)', 'SARS-CoV-2 PCR Value', 'SARS-CoV-2 Antigen Value', 'SARS-CoV-2 ELISA Antibody Value', 'Sodium Heparin Tubes (Green Top)', 'Were the Sodium Heparin blood samples collected prior to administration of IVIG and/ or Steroids?', 'Sodium Heparin Date and Time of Collection', 'Tempus TM RNA Tube  ', 'Were the Tempus blood samples collected prior to administration of IVIG or Steroids?', 'Tempus Date and Time of Collection', 'Serum Separator Tube(s) (SST)', 'Were the SST blood samples collected prior to administration of IVIG or Steroids?', 'SST Date and Time of Collection', 'Prednisone', 'First Dose Date/time:', 'First dose in mg', 'Dexamethasone', 'Dex First Dose Date/time:', 'Dex First dose in mg', 'Solumedrol? ', 'Sol First Dose Date/time:', 'Sol First dose in mg', 'Intravenous Immunoglobulin (IV IgG)', 'IVIG First Dose Date/time:', 'IVIG First dose in mg:', 'Neutralizing Antibodies', 'NeuAb First Dose Date/time:', 'Convalescent Plasma ', 'ConvPlas First Dose Date/time:', 'Site', 'Source', 'Baseline: Green Top Tube Collected before IV IgG / Solumedrol', 'Baseline: Tempus Collected before IV IgG / Solumedrol', 'Baseline: SST Collected before IV IgG / Solumedrol', 'Comment Fields', 'Disease.Status2', 'Disease.Status3', 'batch'\n",
       "    var: 'ensemblID', 'name', 'feature_type', 'chr', 'start', 'end', 'ribo', 'mito', 'n_cells_by_counts', 'mean_counts', 'log1p_mean_counts', 'pct_dropout_by_counts', 'total_counts', 'log1p_total_counts', 'n_cells', 'highly_variable', 'means', 'dispersions', 'dispersions_norm'\n",
       "    uns: 'batch_colors', 'celltype_v1_colors', 'draw_graph', 'hvg', 'log1p', 'neighbors', 'neighbors_30_harmony', 'orig.ident_colors', 'pca', 'umap'\n",
       "    obsm: 'X_draw_graph_fa', 'X_pca', 'X_pca_harmony', 'X_pca_max', 'X_umap', 'old_UMAP', 'seurat_umap'\n",
       "    varm: 'PCs'\n",
       "    layers: 'log', 'median', 'raw_counts'\n",
       "    obsp: 'connectivities', 'distances', 'neighbors_30_harmony_connectivities', 'neighbors_30_harmony_distances'"
      ]
     },
     "execution_count": 21,
     "metadata": {},
     "output_type": "execute_result"
    }
   ],
   "source": [
    "rna_ad_path = os.path.join(input_dir, 'batch_corrected_misc_merged_RNA_lv2_filter_dbl_removed_UNK_removed_soupdbl_removed.h5ad')\n",
    "rna_ad = sc.read_h5ad(rna_ad_path)\n",
    "rna_ad"
   ]
  },
  {
   "cell_type": "code",
   "execution_count": 22,
   "id": "576036b5-84aa-4dae-a34a-12e06dec55b3",
   "metadata": {},
   "outputs": [
    {
     "data": {
      "text/plain": [
       "['CD4T',\n",
       " 'B',\n",
       " 'NaiveT',\n",
       " 'CD14M',\n",
       " 'HSPC',\n",
       " 'CD8T',\n",
       " 'pDC',\n",
       " 'CD16M',\n",
       " 'NK',\n",
       " 'DC',\n",
       " 'PC']"
      ]
     },
     "execution_count": 22,
     "metadata": {},
     "output_type": "execute_result"
    }
   ],
   "source": [
    "rna_ad.obs['celltype_v1'].unique().tolist()"
   ]
  },
  {
   "cell_type": "code",
   "execution_count": 11,
   "id": "bbf6e3c7-7b90-43ca-9288-5713bade0381",
   "metadata": {},
   "outputs": [
    {
     "data": {
      "text/plain": [
       "dict_keys(['HSPC', 'CD14', 'CD16', 'cDC', 'pDC', 'CD4', 'CD8', 'NK', 'B', 'Plasma', 'global'])"
      ]
     },
     "execution_count": 11,
     "metadata": {},
     "output_type": "execute_result"
    }
   ],
   "source": [
    "import json\n",
    "f = open('44_24-03-27_spectra_dict_lucy.json')\n",
    "gene_set = json.load(f)\n",
    "gene_set.keys()"
   ]
  },
  {
   "cell_type": "markdown",
   "id": "14b9733d-287b-4fd7-be68-0da1a853c570",
   "metadata": {},
   "source": [
    "# 2. Match cell annotations"
   ]
  },
  {
   "cell_type": "markdown",
   "id": "c63278f7-3c61-4919-8841-7ce9f7071942",
   "metadata": {},
   "source": [
    "Rename the cells in anndata to match the cells ingene sets.\n",
    "\n",
    "Here, we would like to combine all the T cell subtypes to a single group: `T` cells.\n",
    "\n",
    "Merge the `CD4` and `CD8` genesets to get `T` cells factors and delete the cells that are not present in the anndata like `CD4` and `CD8`. `global` does not need to be removed."
   ]
  },
  {
   "cell_type": "code",
   "execution_count": 13,
   "id": "6dbf22ac-7d01-42e0-9c74-4dbb153f5c65",
   "metadata": {},
   "outputs": [
    {
     "data": {
      "text/plain": [
       "dict_keys(['HSPC', 'CD14', 'CD16', 'cDC', 'pDC', 'CD4', 'CD8', 'NK', 'B', 'Plasma', 'global', 'T'])"
      ]
     },
     "execution_count": 13,
     "metadata": {},
     "output_type": "execute_result"
    }
   ],
   "source": [
    "combined_dict = gene_set['CD4'].copy()  # Copy 'CD4' dictionary\n",
    "combined_dict.update(gene_set['CD8'])   # Merge 'CD8' dictionary into the copy\n",
    "gene_set['T'] = combined_dict\n",
    "gene_set.keys()"
   ]
  },
  {
   "cell_type": "code",
   "execution_count": 16,
   "id": "212cdd92-dbb0-4ac4-9753-e125e3479208",
   "metadata": {},
   "outputs": [
    {
     "data": {
      "text/plain": [
       "dict_keys(['HSPC', 'CD14', 'CD16', 'cDC', 'pDC', 'NK', 'B', 'Plasma', 'global', 'T'])"
      ]
     },
     "execution_count": 16,
     "metadata": {},
     "output_type": "execute_result"
    }
   ],
   "source": [
    "# remove genesets that are not present in anndata\n",
    "gene_set.pop('CD4', None)\n",
    "gene_set.pop('CD8', None)\n",
    "gene_set.keys()"
   ]
  },
  {
   "cell_type": "code",
   "execution_count": 24,
   "id": "6644e867-c2e9-4568-ad0b-3b3596221684",
   "metadata": {},
   "outputs": [],
   "source": [
    "# Rename cells in anndata\n",
    "rename_mapping = {\n",
    "    'CD16M': 'CD16',\n",
    "    'CD4T': 'T',\n",
    "    'CD14M': 'CD14',\n",
    "    'CD8T': 'T',\n",
    "    'PC': 'Plasma',\n",
    "    'DC': 'cDC',\n",
    "    'NaiveT': 'T' \n",
    "}"
   ]
  },
  {
   "cell_type": "code",
   "execution_count": 25,
   "id": "00c51e4a-01d1-4cf6-b331-9cdac029916e",
   "metadata": {},
   "outputs": [
    {
     "data": {
      "text/plain": [
       "['T', 'B', 'CD14', 'HSPC', 'pDC', 'CD16', 'NK', 'cDC', 'Plasma']"
      ]
     },
     "execution_count": 25,
     "metadata": {},
     "output_type": "execute_result"
    }
   ],
   "source": [
    "# Replace values in the 'celltype_v1' column based on the mapping\n",
    "rna_ad.obs['celltype_spectra'] = rna_ad.obs['celltype_v1']\n",
    "rna_ad.obs['celltype_spectra'] = rna_ad.obs['celltype_spectra'].replace(rename_mapping)\n",
    "rna_ad.obs['celltype_spectra'].unique().tolist()"
   ]
  },
  {
   "cell_type": "markdown",
   "id": "7b86bf23-bedf-4765-9992-8571b6717d9b",
   "metadata": {},
   "source": [
    "# 3. Save the anndata and json file"
   ]
  },
  {
   "cell_type": "code",
   "execution_count": 25,
   "id": "54f82cd2-0608-4dd6-9b6b-204380b891ee",
   "metadata": {},
   "outputs": [],
   "source": [
    "# Save the genesets as a new json file\n",
    "with open('misc_spectra_dict_resh_1.json', 'w') as f:\n",
    "    json.dump(gene_set, f, indent=4)"
   ]
  },
  {
   "cell_type": "code",
   "execution_count": 26,
   "id": "76456748-10c6-4c1d-8ff6-53f468d0615e",
   "metadata": {},
   "outputs": [],
   "source": [
    "rna_ad.write(os.path.join(input_dir, '03_spectra_annotated_rna_anndata.h5ad'))"
   ]
  },
  {
   "cell_type": "code",
   "execution_count": null,
   "id": "5dbfb283-cffd-4b36-9c0e-5dde83d3e974",
   "metadata": {},
   "outputs": [],
   "source": []
  }
 ],
 "metadata": {
  "kernelspec": {
   "display_name": "Python [conda env:multiome_winner_test3]",
   "language": "python",
   "name": "conda-env-multiome_winner_test3-py"
  },
  "language_info": {
   "codemirror_mode": {
    "name": "ipython",
    "version": 3
   },
   "file_extension": ".py",
   "mimetype": "text/x-python",
   "name": "python",
   "nbconvert_exporter": "python",
   "pygments_lexer": "ipython3",
   "version": "3.8.19"
  }
 },
 "nbformat": 4,
 "nbformat_minor": 5
}
