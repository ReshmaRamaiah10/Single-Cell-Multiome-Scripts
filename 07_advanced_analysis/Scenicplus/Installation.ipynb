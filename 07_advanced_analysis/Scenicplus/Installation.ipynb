{
 "cells": [
  {
   "cell_type": "markdown",
   "id": "a4f5d8bb",
   "metadata": {},
   "source": [
    "# Installation"
   ]
  },
  {
   "cell_type": "markdown",
   "id": "ddc374e5",
   "metadata": {},
   "source": [
    "# 4 cpu cores and 1TB for 3 days"
   ]
  },
  {
   "cell_type": "raw",
   "id": "beedfe70",
   "metadata": {},
   "source": [
    "conda create --name scenicplus python=3.11 -y\n",
    "conda activate scenicplus"
   ]
  },
  {
   "cell_type": "code",
   "execution_count": null,
   "id": "347188b3",
   "metadata": {},
   "outputs": [],
   "source": [
    "git clone https://github.com/aertslab/scenicplus.git\n",
    "cd scenicplus\n",
    "pip install ."
   ]
  },
  {
   "cell_type": "code",
   "execution_count": null,
   "id": "52cd72f6",
   "metadata": {},
   "outputs": [],
   "source": [
    "conda install ipykernel"
   ]
  },
  {
   "cell_type": "code",
   "execution_count": null,
   "id": "8e236c8b",
   "metadata": {},
   "outputs": [],
   "source": [
    "python -m ipykernel install --user --name scenicplus --display-name \"scenicplus\""
   ]
  },
  {
   "cell_type": "code",
   "execution_count": null,
   "id": "4d128676",
   "metadata": {},
   "outputs": [],
   "source": []
  }
 ],
 "metadata": {
  "kernelspec": {
   "display_name": "Python 3 (ipykernel)",
   "language": "python",
   "name": "python3"
  },
  "language_info": {
   "codemirror_mode": {
    "name": "ipython",
    "version": 3
   },
   "file_extension": ".py",
   "mimetype": "text/x-python",
   "name": "python",
   "nbconvert_exporter": "python",
   "pygments_lexer": "ipython3",
   "version": "3.9.7"
  }
 },
 "nbformat": 4,
 "nbformat_minor": 5
}
