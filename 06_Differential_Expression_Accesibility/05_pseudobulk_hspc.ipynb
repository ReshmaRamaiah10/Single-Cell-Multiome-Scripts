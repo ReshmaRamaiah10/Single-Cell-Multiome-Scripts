{
 "cells": [
  {
   "cell_type": "code",
   "execution_count": 6,
   "id": "e23f8e4c-7974-4c49-b0a5-7a076f7c729f",
   "metadata": {},
   "outputs": [],
   "source": [
    "library(Ragas)\n",
    "library(dplyr)\n",
    "library(tidyr)\n",
    "library(ggplot2)\n",
    "library(ggrepel)\n",
    "library(openxlsx)\n",
    "library(wesanderson)"
   ]
  },
  {
   "cell_type": "code",
   "execution_count": 2,
   "id": "d567caa7-990e-406b-a459-a57bf8c6530b",
   "metadata": {},
   "outputs": [
    {
     "data": {
      "text/plain": [
       "An object of class Seurat \n",
       "37471 features across 16220 samples within 2 assays \n",
       "Active assay: RNA (36601 features, 2000 variable features)\n",
       " 22 layers present: data, counts, scale.data.1, scale.data.2, scale.data.3, scale.data.4, scale.data.5, scale.data.6, scale.data.7, scale.data.8, scale.data.9, scale.data.11, scale.data.12, scale.data.13, scale.data.14, scale.data.15, scale.data.16, scale.data.17, scale.data.18, scale.data.19, scale.data.20, scale.data\n",
       " 1 other assay present: chromvar\n",
       " 9 dimensional reductions calculated: pca, integrated.rpca, umap, harmony, harmony.umap, harmony2, harmony.umap2, harmony3, harmony.umap3"
      ]
     },
     "metadata": {},
     "output_type": "display_data"
    }
   ],
   "source": [
    "merged <- readRDS('/data/niecr/cheongj/misc/results_seurat/seurat_obj/misc_merged_hspc.rds')\n",
    "merged"
   ]
  },
  {
   "cell_type": "markdown",
   "id": "a90fd05d-6e80-4842-86cc-90262bf3d0b8",
   "metadata": {},
   "source": [
    "# edit rds metadata"
   ]
  },
  {
   "cell_type": "code",
   "execution_count": 3,
   "id": "5e9af375-6f58-4b64-a0c4-8fb471978be3",
   "metadata": {},
   "outputs": [
    {
     "data": {
      "text/html": [
       "HSPC\n",
       "<details>\n",
       "\t<summary style=display:list-item;cursor:pointer>\n",
       "\t\t<strong>Levels</strong>:\n",
       "\t</summary>\n",
       "\t<style>\n",
       "\t.list-inline {list-style: none; margin:0; padding: 0}\n",
       "\t.list-inline>li {display: inline-block}\n",
       "\t.list-inline>li:not(:last-child)::after {content: \"\\00b7\"; padding: 0 .5ex}\n",
       "\t</style>\n",
       "\t<ol class=list-inline><li>'T'</li><li>'B'</li><li>'CD14 mono'</li><li>'HSPC'</li><li>'NK'</li><li>'CD16 mono'</li><li>'DC'</li><li>'pDC'</li><li>'Plasma'</li></ol>\n",
       "</details>"
      ],
      "text/latex": [
       "HSPC\n",
       "\\emph{Levels}: \\begin{enumerate*}\n",
       "\\item 'T'\n",
       "\\item 'B'\n",
       "\\item 'CD14 mono'\n",
       "\\item 'HSPC'\n",
       "\\item 'NK'\n",
       "\\item 'CD16 mono'\n",
       "\\item 'DC'\n",
       "\\item 'pDC'\n",
       "\\item 'Plasma'\n",
       "\\end{enumerate*}\n"
      ],
      "text/markdown": [
       "HSPC\n",
       "**Levels**: 1. 'T'\n",
       "2. 'B'\n",
       "3. 'CD14 mono'\n",
       "4. 'HSPC'\n",
       "5. 'NK'\n",
       "6. 'CD16 mono'\n",
       "7. 'DC'\n",
       "8. 'pDC'\n",
       "9. 'Plasma'\n",
       "\n",
       "\n"
      ],
      "text/plain": [
       "[1] HSPC\n",
       "Levels: T B CD14 mono HSPC NK CD16 mono DC pDC Plasma"
      ]
     },
     "metadata": {},
     "output_type": "display_data"
    }
   ],
   "source": [
    "unique(subset_merged@meta.data$main_cluster_annotation)"
   ]
  },
  {
   "cell_type": "code",
   "execution_count": 5,
   "id": "919e6188-393a-4eff-8e48-dfdb488c4f65",
   "metadata": {},
   "outputs": [
    {
     "data": {
      "text/html": [
       "<style>\n",
       ".list-inline {list-style: none; margin:0; padding: 0}\n",
       ".list-inline>li {display: inline-block}\n",
       ".list-inline>li:not(:last-child)::after {content: \"\\00b7\"; padding: 0 .5ex}\n",
       "</style>\n",
       "<ol class=list-inline><li>'Baseline.MIS.C_71010.039'</li><li>'D28.MIS.C_71022.005'</li><li>'D28.MIS.C_71010.049'</li><li>'MISC.recovered_71003.024'</li><li>'D28.MIS.C_71017.008'</li><li>'MISC.recovered_71022.004'</li><li>'M6.POSSIBLE.MIS.C_71300.002'</li><li>'Baseline.MIS.C_71028.011'</li><li>'Baseline.MIS.C_71003.024'</li><li>'D28.MIS.C_71028.011'</li><li>'MISC.recovered_71017.008'</li><li>'MISC.recovered_71022.005'</li><li>'D28.MIS.C_71010.039'</li><li>'Baseline.POSSIBLE.MIS.C_71300.002'</li><li>'MISC.recovered_71010.049'</li><li>'Baseline.MIS.C_71022.004'</li><li>'D28.MIS.C_71003.024'</li><li>'D28.MIS.C_71022.004'</li><li>'MISC.recovered_71010.039'</li><li>'Baseline.MIS.C_71022.005'</li><li>'Baseline.MIS.C_71017.008'</li><li>'Baseline.MIS.C_71010.049'</li><li>'MISC.recovered_71028.011'</li><li>'D28.POSSIBLE.MIS.C_71300.002'</li><li>'_'</li><li>'Baseline.MIS.C_71022.002'</li><li>'D28.COVID_71010.009'</li><li>'D28.COVID_71010.057'</li><li>'MISC.recovered_71026.001'</li><li>'D28.POSSIBLE.MIS.C_71017.010'</li><li>'MISC.recovered_71010.054'</li><li>'Baseline.COVID_71010.013'</li><li>'MISC.recovered_71010.056'</li><li>'MISC.recovered_71022.002'</li><li>'Baseline.COVID_71010.009'</li><li>'M6.COVID_71010.057'</li><li>'M12.COVID_71010.013'</li><li>'D28.MIS.C_71022.002'</li><li>'M12.COVID_71010.009'</li><li>'D28.MIS.C_71026.001'</li><li>'M6.POSSIBLE.MIS.C_71017.010'</li><li>'D28.MIS.C_71010.054'</li><li>'D28.MIS.C_71010.056'</li><li>'D28.MIS.C_71022.001'</li><li>'D28.COVID_71010.019'</li><li>'M6.POSSIBLE.MIS.C_71033.001'</li><li>'Baseline.MIS.C_71017.007'</li><li>'Baseline.COVID_71300.005'</li><li>'D28.MIS.C_71010.027'</li><li>'D28.POSSIBLE.MIS.C_71028.004'</li><li>'Baseline.MIS.C_71022.001'</li><li>'MISC.recovered_71017.007'</li><li>'D28.POSSIBLE.MIS.C_71033.001'</li><li>'M12.COVID_71300.005'</li><li>'MISC.recovered_71010.029'</li><li>'Baseline.MIS.C_71010.027'</li><li>'Baseline.POSSIBLE.MIS.C_71028.004'</li><li>'Baseline.COVID_71010.019'</li><li>'M12.COVID_71010.019'</li><li>'MISC.recovered_71022.001'</li><li>'D28.MIS.C_71017.007'</li><li>'D28.COVID_71300.005'</li><li>'M12.POSSIBLE.MIS.C_71028.004'</li><li>'Baseline.POSSIBLE.MIS.C_71033.001'</li><li>'D28.MIS.C_71010.029'</li><li>'MISC.recovered_71010.027'</li></ol>\n"
      ],
      "text/latex": [
       "\\begin{enumerate*}\n",
       "\\item 'Baseline.MIS.C\\_71010.039'\n",
       "\\item 'D28.MIS.C\\_71022.005'\n",
       "\\item 'D28.MIS.C\\_71010.049'\n",
       "\\item 'MISC.recovered\\_71003.024'\n",
       "\\item 'D28.MIS.C\\_71017.008'\n",
       "\\item 'MISC.recovered\\_71022.004'\n",
       "\\item 'M6.POSSIBLE.MIS.C\\_71300.002'\n",
       "\\item 'Baseline.MIS.C\\_71028.011'\n",
       "\\item 'Baseline.MIS.C\\_71003.024'\n",
       "\\item 'D28.MIS.C\\_71028.011'\n",
       "\\item 'MISC.recovered\\_71017.008'\n",
       "\\item 'MISC.recovered\\_71022.005'\n",
       "\\item 'D28.MIS.C\\_71010.039'\n",
       "\\item 'Baseline.POSSIBLE.MIS.C\\_71300.002'\n",
       "\\item 'MISC.recovered\\_71010.049'\n",
       "\\item 'Baseline.MIS.C\\_71022.004'\n",
       "\\item 'D28.MIS.C\\_71003.024'\n",
       "\\item 'D28.MIS.C\\_71022.004'\n",
       "\\item 'MISC.recovered\\_71010.039'\n",
       "\\item 'Baseline.MIS.C\\_71022.005'\n",
       "\\item 'Baseline.MIS.C\\_71017.008'\n",
       "\\item 'Baseline.MIS.C\\_71010.049'\n",
       "\\item 'MISC.recovered\\_71028.011'\n",
       "\\item 'D28.POSSIBLE.MIS.C\\_71300.002'\n",
       "\\item '\\_'\n",
       "\\item 'Baseline.MIS.C\\_71022.002'\n",
       "\\item 'D28.COVID\\_71010.009'\n",
       "\\item 'D28.COVID\\_71010.057'\n",
       "\\item 'MISC.recovered\\_71026.001'\n",
       "\\item 'D28.POSSIBLE.MIS.C\\_71017.010'\n",
       "\\item 'MISC.recovered\\_71010.054'\n",
       "\\item 'Baseline.COVID\\_71010.013'\n",
       "\\item 'MISC.recovered\\_71010.056'\n",
       "\\item 'MISC.recovered\\_71022.002'\n",
       "\\item 'Baseline.COVID\\_71010.009'\n",
       "\\item 'M6.COVID\\_71010.057'\n",
       "\\item 'M12.COVID\\_71010.013'\n",
       "\\item 'D28.MIS.C\\_71022.002'\n",
       "\\item 'M12.COVID\\_71010.009'\n",
       "\\item 'D28.MIS.C\\_71026.001'\n",
       "\\item 'M6.POSSIBLE.MIS.C\\_71017.010'\n",
       "\\item 'D28.MIS.C\\_71010.054'\n",
       "\\item 'D28.MIS.C\\_71010.056'\n",
       "\\item 'D28.MIS.C\\_71022.001'\n",
       "\\item 'D28.COVID\\_71010.019'\n",
       "\\item 'M6.POSSIBLE.MIS.C\\_71033.001'\n",
       "\\item 'Baseline.MIS.C\\_71017.007'\n",
       "\\item 'Baseline.COVID\\_71300.005'\n",
       "\\item 'D28.MIS.C\\_71010.027'\n",
       "\\item 'D28.POSSIBLE.MIS.C\\_71028.004'\n",
       "\\item 'Baseline.MIS.C\\_71022.001'\n",
       "\\item 'MISC.recovered\\_71017.007'\n",
       "\\item 'D28.POSSIBLE.MIS.C\\_71033.001'\n",
       "\\item 'M12.COVID\\_71300.005'\n",
       "\\item 'MISC.recovered\\_71010.029'\n",
       "\\item 'Baseline.MIS.C\\_71010.027'\n",
       "\\item 'Baseline.POSSIBLE.MIS.C\\_71028.004'\n",
       "\\item 'Baseline.COVID\\_71010.019'\n",
       "\\item 'M12.COVID\\_71010.019'\n",
       "\\item 'MISC.recovered\\_71022.001'\n",
       "\\item 'D28.MIS.C\\_71017.007'\n",
       "\\item 'D28.COVID\\_71300.005'\n",
       "\\item 'M12.POSSIBLE.MIS.C\\_71028.004'\n",
       "\\item 'Baseline.POSSIBLE.MIS.C\\_71033.001'\n",
       "\\item 'D28.MIS.C\\_71010.029'\n",
       "\\item 'MISC.recovered\\_71010.027'\n",
       "\\end{enumerate*}\n"
      ],
      "text/markdown": [
       "1. 'Baseline.MIS.C_71010.039'\n",
       "2. 'D28.MIS.C_71022.005'\n",
       "3. 'D28.MIS.C_71010.049'\n",
       "4. 'MISC.recovered_71003.024'\n",
       "5. 'D28.MIS.C_71017.008'\n",
       "6. 'MISC.recovered_71022.004'\n",
       "7. 'M6.POSSIBLE.MIS.C_71300.002'\n",
       "8. 'Baseline.MIS.C_71028.011'\n",
       "9. 'Baseline.MIS.C_71003.024'\n",
       "10. 'D28.MIS.C_71028.011'\n",
       "11. 'MISC.recovered_71017.008'\n",
       "12. 'MISC.recovered_71022.005'\n",
       "13. 'D28.MIS.C_71010.039'\n",
       "14. 'Baseline.POSSIBLE.MIS.C_71300.002'\n",
       "15. 'MISC.recovered_71010.049'\n",
       "16. 'Baseline.MIS.C_71022.004'\n",
       "17. 'D28.MIS.C_71003.024'\n",
       "18. 'D28.MIS.C_71022.004'\n",
       "19. 'MISC.recovered_71010.039'\n",
       "20. 'Baseline.MIS.C_71022.005'\n",
       "21. 'Baseline.MIS.C_71017.008'\n",
       "22. 'Baseline.MIS.C_71010.049'\n",
       "23. 'MISC.recovered_71028.011'\n",
       "24. 'D28.POSSIBLE.MIS.C_71300.002'\n",
       "25. '_'\n",
       "26. 'Baseline.MIS.C_71022.002'\n",
       "27. 'D28.COVID_71010.009'\n",
       "28. 'D28.COVID_71010.057'\n",
       "29. 'MISC.recovered_71026.001'\n",
       "30. 'D28.POSSIBLE.MIS.C_71017.010'\n",
       "31. 'MISC.recovered_71010.054'\n",
       "32. 'Baseline.COVID_71010.013'\n",
       "33. 'MISC.recovered_71010.056'\n",
       "34. 'MISC.recovered_71022.002'\n",
       "35. 'Baseline.COVID_71010.009'\n",
       "36. 'M6.COVID_71010.057'\n",
       "37. 'M12.COVID_71010.013'\n",
       "38. 'D28.MIS.C_71022.002'\n",
       "39. 'M12.COVID_71010.009'\n",
       "40. 'D28.MIS.C_71026.001'\n",
       "41. 'M6.POSSIBLE.MIS.C_71017.010'\n",
       "42. 'D28.MIS.C_71010.054'\n",
       "43. 'D28.MIS.C_71010.056'\n",
       "44. 'D28.MIS.C_71022.001'\n",
       "45. 'D28.COVID_71010.019'\n",
       "46. 'M6.POSSIBLE.MIS.C_71033.001'\n",
       "47. 'Baseline.MIS.C_71017.007'\n",
       "48. 'Baseline.COVID_71300.005'\n",
       "49. 'D28.MIS.C_71010.027'\n",
       "50. 'D28.POSSIBLE.MIS.C_71028.004'\n",
       "51. 'Baseline.MIS.C_71022.001'\n",
       "52. 'MISC.recovered_71017.007'\n",
       "53. 'D28.POSSIBLE.MIS.C_71033.001'\n",
       "54. 'M12.COVID_71300.005'\n",
       "55. 'MISC.recovered_71010.029'\n",
       "56. 'Baseline.MIS.C_71010.027'\n",
       "57. 'Baseline.POSSIBLE.MIS.C_71028.004'\n",
       "58. 'Baseline.COVID_71010.019'\n",
       "59. 'M12.COVID_71010.019'\n",
       "60. 'MISC.recovered_71022.001'\n",
       "61. 'D28.MIS.C_71017.007'\n",
       "62. 'D28.COVID_71300.005'\n",
       "63. 'M12.POSSIBLE.MIS.C_71028.004'\n",
       "64. 'Baseline.POSSIBLE.MIS.C_71033.001'\n",
       "65. 'D28.MIS.C_71010.029'\n",
       "66. 'MISC.recovered_71010.027'\n",
       "\n",
       "\n"
      ],
      "text/plain": [
       " [1] \"Baseline.MIS.C_71010.039\"          \"D28.MIS.C_71022.005\"              \n",
       " [3] \"D28.MIS.C_71010.049\"               \"MISC.recovered_71003.024\"         \n",
       " [5] \"D28.MIS.C_71017.008\"               \"MISC.recovered_71022.004\"         \n",
       " [7] \"M6.POSSIBLE.MIS.C_71300.002\"       \"Baseline.MIS.C_71028.011\"         \n",
       " [9] \"Baseline.MIS.C_71003.024\"          \"D28.MIS.C_71028.011\"              \n",
       "[11] \"MISC.recovered_71017.008\"          \"MISC.recovered_71022.005\"         \n",
       "[13] \"D28.MIS.C_71010.039\"               \"Baseline.POSSIBLE.MIS.C_71300.002\"\n",
       "[15] \"MISC.recovered_71010.049\"          \"Baseline.MIS.C_71022.004\"         \n",
       "[17] \"D28.MIS.C_71003.024\"               \"D28.MIS.C_71022.004\"              \n",
       "[19] \"MISC.recovered_71010.039\"          \"Baseline.MIS.C_71022.005\"         \n",
       "[21] \"Baseline.MIS.C_71017.008\"          \"Baseline.MIS.C_71010.049\"         \n",
       "[23] \"MISC.recovered_71028.011\"          \"D28.POSSIBLE.MIS.C_71300.002\"     \n",
       "[25] \"_\"                                 \"Baseline.MIS.C_71022.002\"         \n",
       "[27] \"D28.COVID_71010.009\"               \"D28.COVID_71010.057\"              \n",
       "[29] \"MISC.recovered_71026.001\"          \"D28.POSSIBLE.MIS.C_71017.010\"     \n",
       "[31] \"MISC.recovered_71010.054\"          \"Baseline.COVID_71010.013\"         \n",
       "[33] \"MISC.recovered_71010.056\"          \"MISC.recovered_71022.002\"         \n",
       "[35] \"Baseline.COVID_71010.009\"          \"M6.COVID_71010.057\"               \n",
       "[37] \"M12.COVID_71010.013\"               \"D28.MIS.C_71022.002\"              \n",
       "[39] \"M12.COVID_71010.009\"               \"D28.MIS.C_71026.001\"              \n",
       "[41] \"M6.POSSIBLE.MIS.C_71017.010\"       \"D28.MIS.C_71010.054\"              \n",
       "[43] \"D28.MIS.C_71010.056\"               \"D28.MIS.C_71022.001\"              \n",
       "[45] \"D28.COVID_71010.019\"               \"M6.POSSIBLE.MIS.C_71033.001\"      \n",
       "[47] \"Baseline.MIS.C_71017.007\"          \"Baseline.COVID_71300.005\"         \n",
       "[49] \"D28.MIS.C_71010.027\"               \"D28.POSSIBLE.MIS.C_71028.004\"     \n",
       "[51] \"Baseline.MIS.C_71022.001\"          \"MISC.recovered_71017.007\"         \n",
       "[53] \"D28.POSSIBLE.MIS.C_71033.001\"      \"M12.COVID_71300.005\"              \n",
       "[55] \"MISC.recovered_71010.029\"          \"Baseline.MIS.C_71010.027\"         \n",
       "[57] \"Baseline.POSSIBLE.MIS.C_71028.004\" \"Baseline.COVID_71010.019\"         \n",
       "[59] \"M12.COVID_71010.019\"               \"MISC.recovered_71022.001\"         \n",
       "[61] \"D28.MIS.C_71017.007\"               \"D28.COVID_71300.005\"              \n",
       "[63] \"M12.POSSIBLE.MIS.C_71028.004\"      \"Baseline.POSSIBLE.MIS.C_71033.001\"\n",
       "[65] \"D28.MIS.C_71010.029\"               \"MISC.recovered_71010.027\"         "
      ]
     },
     "metadata": {},
     "output_type": "display_data"
    }
   ],
   "source": [
    "merged@meta.data <- merged@meta.data %>%\n",
    "  mutate(Disease.Status3 = gsub(\"[-_ ]\", \".\", Disease.Status3))\n",
    "merged@meta.data <- merged@meta.data %>%\n",
    "  mutate(sample.id = gsub(\"[-_ ]\", \".\", sample.id))\n",
    "merged@meta.data <- merged@meta.data %>%\n",
    "  mutate(sample.id2 = paste(Disease.Status3, sample.id, sep = \"_\"))\n",
    "unique(merged@meta.data$sample.id2)"
   ]
  },
  {
   "cell_type": "raw",
   "id": "a04c864a-1a73-4766-b139-b5321da0bbb6",
   "metadata": {},
   "source": [
    "table(subset_merged@meta.data$genotype_ID)"
   ]
  },
  {
   "cell_type": "markdown",
   "id": "5d3250ca-d26d-4895-9db1-c4a762eab88b",
   "metadata": {},
   "source": [
    "# Function to subset rds"
   ]
  },
  {
   "cell_type": "code",
   "execution_count": 14,
   "id": "a66fc4d1-928f-46fc-8a49-a2b764dcb92d",
   "metadata": {},
   "outputs": [],
   "source": [
    "subset_rds <- function(data=merged, disease_statuses, min_count = 2) {\n",
    "  # Filter the data based on Disease.Status3\n",
    "  filtered_data <- subset(data, subset = Disease.Status3 %in% disease_statuses)\n",
    "  \n",
    "  # Compute clusters to remove based on count\n",
    "  clusters_to_remove <- filtered_data@meta.data %>%\n",
    "    group_by(main_cluster_annotation, Disease.Status3, sample.id2) %>%\n",
    "    summarize(count = n(), .groups = 'drop') %>%\n",
    "    filter(count <= min_count) %>%\n",
    "    pull(main_cluster_annotation) %>%\n",
    "    unique()\n",
    "  \n",
    "  # Compute clusters to keep\n",
    "  clusters_to_keep <- setdiff(unique(filtered_data@meta.data$main_cluster_annotation), clusters_to_remove)\n",
    "  \n",
    "  # Subset the original data to keep only the relevant clusters\n",
    "  filtered_data <- subset(filtered_data, subset = main_cluster_annotation %in% clusters_to_keep)\n",
    "  \n",
    "  return(filtered_data)\n",
    "}\n",
    "#subset_merged <- subset_rds(merged,c('Baseline.COVID', 'MISC.recovered'))"
   ]
  },
  {
   "cell_type": "markdown",
   "id": "c96b2cfa-0f8b-4f8a-95b3-3f6bb1a2e5a5",
   "metadata": {},
   "source": [
    "# Run pseudobulk"
   ]
  },
  {
   "cell_type": "raw",
   "id": "7898d1a3-12ed-4c06-8e54-743ebab10bc9",
   "metadata": {},
   "source": [
    "merged <- CreatePostIntegrationObject(object = subset_merged)\n",
    "merged"
   ]
  },
  {
   "cell_type": "raw",
   "id": "1b61b2ea-ff60-4d88-ba12-18f69e268f69",
   "metadata": {},
   "source": [
    "merged <- RunFindAllMarkers(merged,ident = \"main_cluster_annotation\")"
   ]
  },
  {
   "cell_type": "raw",
   "id": "d69e528d-b55b-4aac-9a20-0922d72817b5",
   "metadata": {},
   "source": [
    "merged <- CalculateExpFreqs(merged, \n",
    "                                ident = \"main_cluster_annotation\",\n",
    "                                verbose = FALSE)\n",
    "merged"
   ]
  },
  {
   "cell_type": "code",
   "execution_count": 6,
   "id": "eed6ea3f-5b24-4295-a3f9-54fb7da0c9a0",
   "metadata": {},
   "outputs": [
    {
     "name": "stderr",
     "output_type": "stream",
     "text": [
      "Checking validity of names...\n",
      "\n",
      "Converting Disease.Status3 to factor\n",
      "\n",
      "Converting sample.id2 to factor\n",
      "\n",
      "Contrast created: group_idMISC.recovered-group_idBaseline.MIS.C\n",
      "\n",
      "Creating single cell experiment object...\n",
      "\n",
      "Aggregating count data...\n",
      "\n",
      "Running differential state analysis...\n",
      "\n"
     ]
    },
    {
     "name": "stdout",
     "output_type": "stream",
     "text": [
      "  |======================================================================| 100%\n",
      "\n"
     ]
    },
    {
     "name": "stderr",
     "output_type": "stream",
     "text": [
      "\n",
      "Formatting output...\n",
      "\n",
      "Pseudobulk-analysis completed!\n",
      "\n"
     ]
    }
   ],
   "source": [
    "subset_merged <- subset(merged, subset = Disease.Status3 %in% c('Baseline.MIS.C', 'MISC.recovered'))\n",
    "Baseline_MISC_deg <- RunPseudobulkAnalysis(object = subset_merged,\n",
    "                                    ident.var = \"main_cluster_annotation\",\n",
    "                                    group.var = \"Disease.Status3\",\n",
    "                                    sample.var = \"sample.id2\",\n",
    "                                    group.1 = \"MISC.recovered\",\n",
    "                                    group.2 = \"Baseline.MIS.C\")"
   ]
  },
  {
   "cell_type": "code",
   "execution_count": 7,
   "id": "e8fd8a95-9871-4037-8cef-d451a23bf36d",
   "metadata": {},
   "outputs": [
    {
     "name": "stderr",
     "output_type": "stream",
     "text": [
      "Checking validity of names...\n",
      "\n",
      "Converting Disease.Status3 to factor\n",
      "\n",
      "Converting sample.id2 to factor\n",
      "\n",
      "Contrast created: group_idMISC.recovered-group_idD28.MIS.C\n",
      "\n",
      "Creating single cell experiment object...\n",
      "\n",
      "Aggregating count data...\n",
      "\n",
      "Running differential state analysis...\n",
      "\n"
     ]
    },
    {
     "name": "stdout",
     "output_type": "stream",
     "text": [
      "  |======================================================================| 100%\n",
      "\n"
     ]
    },
    {
     "name": "stderr",
     "output_type": "stream",
     "text": [
      "\n",
      "Formatting output...\n",
      "\n",
      "Pseudobulk-analysis completed!\n",
      "\n"
     ]
    }
   ],
   "source": [
    "subset_merged <- subset(merged, subset = Disease.Status3 %in% c('D28.MIS.C', 'MISC.recovered'))\n",
    "D28_MISC_deg <- RunPseudobulkAnalysis(object = subset_merged,\n",
    "                                    ident.var = \"main_cluster_annotation\",\n",
    "                                    group.var = \"Disease.Status3\",\n",
    "                                    sample.var = \"sample.id2\",\n",
    "                                    group.1 = \"MISC.recovered\",\n",
    "                                    group.2 = \"D28.MIS.C\")"
   ]
  },
  {
   "cell_type": "code",
   "execution_count": 8,
   "id": "0960614e-af73-48c2-ae44-7b11871efe81",
   "metadata": {},
   "outputs": [
    {
     "name": "stderr",
     "output_type": "stream",
     "text": [
      "Checking validity of names...\n",
      "\n",
      "Converting Disease.Status3 to factor\n",
      "\n",
      "Converting sample.id2 to factor\n",
      "\n",
      "Contrast created: group_idMISC.recovered-group_idBaseline.COVID\n",
      "\n",
      "Creating single cell experiment object...\n",
      "\n",
      "Aggregating count data...\n",
      "\n",
      "Running differential state analysis...\n",
      "\n"
     ]
    },
    {
     "name": "stdout",
     "output_type": "stream",
     "text": [
      "  |======================================================================| 100%\n",
      "\n"
     ]
    },
    {
     "name": "stderr",
     "output_type": "stream",
     "text": [
      "\n",
      "Formatting output...\n",
      "\n",
      "Pseudobulk-analysis completed!\n",
      "\n"
     ]
    }
   ],
   "source": [
    "subset_merged <- subset(merged, subset = Disease.Status3 %in% c('Baseline.COVID', 'MISC.recovered'))\n",
    "#subset_merged <- subset_rds(merged,c('Baseline.COVID', 'MISC.recovered'))\n",
    "Baseline_COVID_deg <- RunPseudobulkAnalysis(object = subset_merged,\n",
    "                                    ident.var = \"main_cluster_annotation\",\n",
    "                                    group.var = \"Disease.Status3\",\n",
    "                                    sample.var = \"sample.id2\",\n",
    "                                    group.1 = \"MISC.recovered\",\n",
    "                                    group.2 = \"Baseline.COVID\")"
   ]
  },
  {
   "cell_type": "code",
   "execution_count": 9,
   "id": "362e744e-8efc-4f08-9217-1c99713a5ae9",
   "metadata": {},
   "outputs": [
    {
     "name": "stderr",
     "output_type": "stream",
     "text": [
      "Checking validity of names...\n",
      "\n",
      "Converting Disease.Status3 to factor\n",
      "\n",
      "Converting sample.id2 to factor\n",
      "\n",
      "Contrast created: group_idMISC.recovered-group_idD28.COVID\n",
      "\n",
      "Creating single cell experiment object...\n",
      "\n",
      "Aggregating count data...\n",
      "\n",
      "Running differential state analysis...\n",
      "\n"
     ]
    },
    {
     "name": "stdout",
     "output_type": "stream",
     "text": [
      "  |======================================================================| 100%\n",
      "\n"
     ]
    },
    {
     "name": "stderr",
     "output_type": "stream",
     "text": [
      "\n",
      "Formatting output...\n",
      "\n",
      "Pseudobulk-analysis completed!\n",
      "\n"
     ]
    }
   ],
   "source": [
    "subset_merged <- subset(merged, subset = Disease.Status3 %in% c('D28.COVID', 'MISC.recovered'))\n",
    "D28_COVID_deg <- RunPseudobulkAnalysis(object = subset_merged,\n",
    "                                    ident.var = \"main_cluster_annotation\",\n",
    "                                    group.var = \"Disease.Status3\",\n",
    "                                    sample.var = \"sample.id2\",\n",
    "                                    group.1 = \"MISC.recovered\",\n",
    "                                    group.2 = \"D28.COVID\")"
   ]
  },
  {
   "cell_type": "code",
   "execution_count": 16,
   "id": "2a7508d1-dfb5-4b91-ad3b-58bd78ec7e2d",
   "metadata": {},
   "outputs": [
    {
     "name": "stderr",
     "output_type": "stream",
     "text": [
      "Checking validity of names...\n",
      "\n",
      "Converting Disease.Status3 to factor\n",
      "\n",
      "Converting sample.id2 to factor\n",
      "\n",
      "Contrast created: group_idMISC.recovered-group_idM6.COVID\n",
      "\n",
      "Creating single cell experiment object...\n",
      "\n",
      "Aggregating count data...\n",
      "\n",
      "Running differential state analysis...\n",
      "\n"
     ]
    },
    {
     "name": "stdout",
     "output_type": "stream",
     "text": [
      "  |======================================================================| 100%\n",
      "\n"
     ]
    },
    {
     "ename": "ERROR",
     "evalue": "Error in pbDS(pb, method = pbDS.method, design = design, contrast = contrast, : Specified filtering options result in no genes in any clusters being tested. To force testing, consider modifying arguments 'min_cells' and/or 'filter'. See '?pbDS' for details.\n",
     "output_type": "error",
     "traceback": [
      "Error in pbDS(pb, method = pbDS.method, design = design, contrast = contrast, : Specified filtering options result in no genes in any clusters being tested. To force testing, consider modifying arguments 'min_cells' and/or 'filter'. See '?pbDS' for details.\nTraceback:\n",
      "1. RunPseudobulkAnalysis(object = subset_merged, ident.var = \"main_cluster_annotation\", \n .     group.var = \"Disease.Status3\", sample.var = \"sample.id2\", \n .     group.1 = \"MISC.recovered\", group.2 = \"M6.COVID\")",
      "2. pbDS(pb, method = pbDS.method, design = design, contrast = contrast, \n .     verbose = pbDS.verbose, min_cells = pbDS.min.cell, filter = pbDS.filter, \n .     ...)",
      "3. stop(\"Specified filtering options result in no genes in any clusters \", \n .     \"being tested. To force testing, consider modifying arguments \", \n .     \"'min_cells' and/or 'filter'. See '?pbDS' for details.\")"
     ]
    }
   ],
   "source": [
    "subset_merged <- subset_rds(merged,c('M6.COVID', 'MISC.recovered'),min_count=1)\n",
    "M6_COVID_deg <- RunPseudobulkAnalysis(object = subset_merged,\n",
    "                                    ident.var = \"main_cluster_annotation\",\n",
    "                                    group.var = \"Disease.Status3\",\n",
    "                                    sample.var = \"sample.id2\",\n",
    "                                    group.1 = \"MISC.recovered\",\n",
    "                                    group.2 = \"M6.COVID\")"
   ]
  },
  {
   "cell_type": "code",
   "execution_count": 13,
   "id": "2a78d4c1-1139-433b-9636-347eafef6551",
   "metadata": {},
   "outputs": [
    {
     "name": "stderr",
     "output_type": "stream",
     "text": [
      "Checking validity of names...\n",
      "\n",
      "Converting Disease.Status3 to factor\n",
      "\n",
      "Converting sample.id2 to factor\n",
      "\n",
      "Contrast created: group_idMISC.recovered-group_idM12.COVID\n",
      "\n",
      "Creating single cell experiment object...\n",
      "\n",
      "Aggregating count data...\n",
      "\n",
      "Running differential state analysis...\n",
      "\n"
     ]
    },
    {
     "name": "stdout",
     "output_type": "stream",
     "text": [
      "  |======================================================================| 100%\n",
      "\n"
     ]
    },
    {
     "name": "stderr",
     "output_type": "stream",
     "text": [
      "\n",
      "Formatting output...\n",
      "\n",
      "Pseudobulk-analysis completed!\n",
      "\n"
     ]
    }
   ],
   "source": [
    "subset_merged <- subset(merged, subset = Disease.Status3 %in% c('M12.COVID', 'MISC.recovered'))\n",
    "M12_COVID_deg <- RunPseudobulkAnalysis(object = subset_merged,\n",
    "                                    ident.var = \"main_cluster_annotation\",\n",
    "                                    group.var = \"Disease.Status3\",\n",
    "                                    sample.var = \"sample.id2\",\n",
    "                                    group.1 = \"MISC.recovered\",\n",
    "                                    group.2 = \"M12.COVID\")"
   ]
  },
  {
   "cell_type": "code",
   "execution_count": 12,
   "id": "b1732dac-5761-4707-8977-c193ac886468",
   "metadata": {},
   "outputs": [
    {
     "name": "stderr",
     "output_type": "stream",
     "text": [
      "Checking validity of names...\n",
      "\n",
      "Converting Disease.Status3 to factor\n",
      "\n",
      "Converting sample.id2 to factor\n",
      "\n",
      "Contrast created: group_idD28.COVID-group_idBaseline.MIS.C\n",
      "\n",
      "Creating single cell experiment object...\n",
      "\n",
      "Aggregating count data...\n",
      "\n",
      "Running differential state analysis...\n",
      "\n"
     ]
    },
    {
     "name": "stdout",
     "output_type": "stream",
     "text": [
      "  |======================================================================| 100%\n",
      "\n"
     ]
    },
    {
     "name": "stderr",
     "output_type": "stream",
     "text": [
      "\n",
      "Formatting output...\n",
      "\n",
      "Pseudobulk-analysis completed!\n",
      "\n"
     ]
    }
   ],
   "source": [
    "subset_merged <- subset(merged, subset = Disease.Status3 %in% c('D28.COVID', 'Baseline.MIS.C'))\n",
    "D28_COVID_vs_Baseline_MISC_deg <- RunPseudobulkAnalysis(object = subset_merged,\n",
    "                                    ident.var = \"main_cluster_annotation\",\n",
    "                                    group.var = \"Disease.Status3\",\n",
    "                                    sample.var = \"sample.id2\",\n",
    "                                    group.1 = \"D28.COVID\",\n",
    "                                    group.2 = \"Baseline.MIS.C\")"
   ]
  },
  {
   "cell_type": "markdown",
   "id": "bfc0da4c-863b-4fe3-b7b2-8eda8e2a920f",
   "metadata": {},
   "source": [
    "# Save RDS"
   ]
  },
  {
   "cell_type": "code",
   "execution_count": 73,
   "id": "34f79eaa-2672-4ceb-ac92-d70888751656",
   "metadata": {},
   "outputs": [],
   "source": [
    "list(D28_COVID_vs_Baseline_MISC=D28_COVID_vs_Baseline_MISC_deg,\n",
    "    Baseline_MISC=Baseline_MISC_deg,\n",
    "    D28_MISC=D28_MISC_deg,\n",
    "    Baseline_COVID=Baseline_COVID_deg,\n",
    "    D28_COVID=D28_COVID_deg,\n",
    "    M12_COVID=M12_COVID_deg) -> bulk_deg_list"
   ]
  },
  {
   "cell_type": "code",
   "execution_count": 24,
   "id": "b182ae5d-3aec-4e3d-8c14-93193c9aea9b",
   "metadata": {},
   "outputs": [],
   "source": [
    "saveRDS(bulk_deg_list, \"/data/niecr/cheongj/misc/results_seurat/DGE/pseudobulk/psedobulk_hspc.rds\")"
   ]
  },
  {
   "cell_type": "raw",
   "id": "095606aa-b924-4ee6-ba85-0e708455001e",
   "metadata": {},
   "source": [
    "$res\n",
    "$res$table\n",
    "$res$table$`group_idMISC.recovered-group_idM12.COVID`\n",
    "$res$table$`group_idMISC.recovered-group_idM12.COVID`$HSPC"
   ]
  },
  {
   "cell_type": "code",
   "execution_count": 77,
   "id": "ca9d1e39-37eb-45d4-b5fc-18411e0be70d",
   "metadata": {},
   "outputs": [],
   "source": [
    "library(openxlsx)\n",
    "out_dir <- '/data/niecr/cheongj/misc/results_seurat/DGE/pseudobulk/hspc_files/'\n",
    "for (name in names(bulk_deg_list)) {\n",
    "  bulk_deg_list_res <- bulk_deg_list[[name]]$res$table[[1]]\n",
    "  # Create a list to store sheets\n",
    "  sheets_list <- list()\n",
    "  # Loop through each cell type in bulk_deg_list_res\n",
    "  for (i in names(bulk_deg_list_res)) {\n",
    "    deg <- bulk_deg_list_res[[i]]\n",
    "    sheets_list[[i]] <- deg\n",
    "  }\n",
    "  write.xlsx(sheets_list, file = paste0(out_dir, name, '_pseudobulk_hspc.xlsx'))\n",
    "}"
   ]
  },
  {
   "cell_type": "code",
   "execution_count": 78,
   "id": "03f6eff1-13c0-4d57-86e3-c18ddd3f4de0",
   "metadata": {},
   "outputs": [],
   "source": [
    "library(openxlsx)\n",
    "out_dir <- '/data/niecr/cheongj/misc/results_seurat/DGE/pseudobulk/hspc_files/'\n",
    "sheets_list <- list()\n",
    "for (name in names(bulk_deg_list)) {\n",
    "  sheets_list[[name]] <- bulk_deg_list[[name]]$res$table[[1]]$HSPC\n",
    "  write.xlsx(sheets_list, file = paste0(out_dir,'merged_pseudobulk_hspc.xlsx'))\n",
    "}"
   ]
  },
  {
   "cell_type": "markdown",
   "id": "3ee85710-0b44-4871-b1b5-ba012855a1c6",
   "metadata": {},
   "source": [
    "# GSEA"
   ]
  },
  {
   "cell_type": "code",
   "execution_count": null,
   "id": "8c623e59-31a4-4cbd-8b3f-71e9d4d4af6f",
   "metadata": {},
   "outputs": [],
   "source": [
    "library(clusterProfiler)\n",
    "library(org.Hs.eg.db)\n",
    "library(enrichplot)"
   ]
  },
  {
   "cell_type": "code",
   "execution_count": 11,
   "id": "551ff7fc-1e81-4859-a9eb-c899ee7ac17a",
   "metadata": {},
   "outputs": [],
   "source": [
    "gseaobj <- function(df){\n",
    "  tryCatch(\n",
    "    {\n",
    "      genelist <- df$logFC\n",
    "      names(genelist) <- df$gene\n",
    "      genelist <- na.omit(genelist)\n",
    "      genelist <- sort(genelist, decreasing = T)\n",
    "      \n",
    "      gse <- gseGO(geneList=genelist, \n",
    "                   ont =\"BP\", \n",
    "                   keyType = \"SYMBOL\", \n",
    "                   minGSSize = 10, \n",
    "                   maxGSSize = 500,  # 500 genes seem too general\n",
    "                   pvalueCutoff = 0.05, \n",
    "                   verbose = TRUE, \n",
    "                   OrgDb = \"org.Hs.eg.db\")\n",
    "      gse\n",
    "    }, error = function(e) {print(\"error\")})\n",
    "}\n",
    "\n",
    "gseoplot <- function(x) {\n",
    "  tryCatch(\n",
    "    {\n",
    "      dotplot(x, showCategory = 10, split = \".sign\", font.size = 7) + facet_grid(.~.sign)\n",
    "    }, error = function(e) {print(\"error\")})\n",
    "}"
   ]
  },
  {
   "cell_type": "code",
   "execution_count": 12,
   "id": "2c1847c2-2b6e-4720-8070-11f40fb65d83",
   "metadata": {},
   "outputs": [],
   "source": [
    "library(readxl)\n",
    "file_path <- \"/data/niecr/cheongj/misc/results_seurat/DGE/pseudobulk/hspc_files/merged_pseudobulk_hspc.xlsx\"\n",
    "\n",
    "# Get the names of all sheets\n",
    "sheet_names <- excel_sheets(file_path)\n",
    "\n",
    "# Initialize an empty list to store sheet data\n",
    "bulk_deg_list_res <- list()\n",
    "\n",
    "# Loop through each sheet and read its data\n",
    "for (sheet_name in sheet_names) {\n",
    "  # Read the sheet into a data frame\n",
    "  sheet_data <- read_excel(file_path, sheet = sheet_name)\n",
    "  \n",
    "  # Add the data frame to the list with sheet name as key\n",
    "  bulk_deg_list_res[[sheet_name]] <- list(sheet_data)\n",
    "}"
   ]
  },
  {
   "cell_type": "code",
   "execution_count": 23,
   "id": "5207b69a-2812-414a-972d-dc99bf0caf8b",
   "metadata": {},
   "outputs": [
    {
     "name": "stdout",
     "output_type": "stream",
     "text": [
      "[1] \"start gsea D28_COVID_vs_Baseline_MISC\"\n"
     ]
    },
    {
     "name": "stderr",
     "output_type": "stream",
     "text": [
      "preparing geneSet collections...\n",
      "\n",
      "GSEA analysis...\n",
      "\n",
      "Warning message in fgseaMultilevel(pathways = pathways, stats = stats, minSize = minSize, :\n",
      "“For some pathways, in reality P-values are less than 1e-10. You can set the `eps` argument to zero for better estimation.”\n",
      "leading edge analysis...\n",
      "\n",
      "done...\n",
      "\n"
     ]
    },
    {
     "name": "stdout",
     "output_type": "stream",
     "text": [
      "[1] \"start gsea Baseline_MISC\"\n"
     ]
    },
    {
     "name": "stderr",
     "output_type": "stream",
     "text": [
      "preparing geneSet collections...\n",
      "\n",
      "GSEA analysis...\n",
      "\n",
      "leading edge analysis...\n",
      "\n",
      "done...\n",
      "\n"
     ]
    },
    {
     "name": "stdout",
     "output_type": "stream",
     "text": [
      "[1] \"start gsea D28_MISC\"\n"
     ]
    },
    {
     "name": "stderr",
     "output_type": "stream",
     "text": [
      "preparing geneSet collections...\n",
      "\n",
      "GSEA analysis...\n",
      "\n",
      "Warning message in fgseaMultilevel(pathways = pathways, stats = stats, minSize = minSize, :\n",
      "“For some pathways, in reality P-values are less than 1e-10. You can set the `eps` argument to zero for better estimation.”\n",
      "leading edge analysis...\n",
      "\n",
      "done...\n",
      "\n"
     ]
    },
    {
     "name": "stdout",
     "output_type": "stream",
     "text": [
      "[1] \"start gsea Baseline_COVID\"\n"
     ]
    },
    {
     "name": "stderr",
     "output_type": "stream",
     "text": [
      "preparing geneSet collections...\n",
      "\n",
      "GSEA analysis...\n",
      "\n",
      "Warning message in fgseaMultilevel(pathways = pathways, stats = stats, minSize = minSize, :\n",
      "“There were 125 pathways for which P-values were not calculated properly due to unbalanced (positive and negative) gene-level statistic values. For such pathways pval, padj, NES, log2err are set to NA. You can try to increase the value of the argument nPermSimple (for example set it nPermSimple = 10000)”\n",
      "Warning message in fgseaMultilevel(pathways = pathways, stats = stats, minSize = minSize, :\n",
      "“For some of the pathways the P-values were likely overestimated. For such pathways log2err is set to NA.”\n",
      "leading edge analysis...\n",
      "\n",
      "done...\n",
      "\n"
     ]
    },
    {
     "name": "stdout",
     "output_type": "stream",
     "text": [
      "[1] \"start gsea D28_COVID\"\n"
     ]
    },
    {
     "name": "stderr",
     "output_type": "stream",
     "text": [
      "preparing geneSet collections...\n",
      "\n",
      "GSEA analysis...\n",
      "\n",
      "Warning message in fgseaMultilevel(pathways = pathways, stats = stats, minSize = minSize, :\n",
      "“For some pathways, in reality P-values are less than 1e-10. You can set the `eps` argument to zero for better estimation.”\n",
      "leading edge analysis...\n",
      "\n",
      "done...\n",
      "\n"
     ]
    },
    {
     "name": "stdout",
     "output_type": "stream",
     "text": [
      "[1] \"start gsea M12_COVID\"\n"
     ]
    },
    {
     "name": "stderr",
     "output_type": "stream",
     "text": [
      "preparing geneSet collections...\n",
      "\n",
      "GSEA analysis...\n",
      "\n",
      "Warning message in fgseaMultilevel(pathways = pathways, stats = stats, minSize = minSize, :\n",
      "“For some pathways, in reality P-values are less than 1e-10. You can set the `eps` argument to zero for better estimation.”\n",
      "leading edge analysis...\n",
      "\n",
      "done...\n",
      "\n"
     ]
    }
   ],
   "source": [
    "comparisonlist <- names(bulk_deg_list_res)\n",
    "\n",
    "gsea_obj_list <- list()\n",
    "gsea_result_list <- list()\n",
    "gsea_plot_list <- list()\n",
    "\n",
    "for (comparison in comparisonlist){\n",
    "  \n",
    "\n",
    "  print(paste0(\"start gsea \", comparison))\n",
    "  \n",
    "  \n",
    "  celltype_deglist <- bulk_deg_list_res[[comparison]]\n",
    "  \n",
    "  celltype_deglist_flt <- lapply(celltype_deglist, function(x) x %>% filter(p_adj.loc < 0.05))\n",
    "  celltype_deglist_flt <- lapply(celltype_deglist, function(x) x[!grepl(\"MT-|RPS|RPL\", x$gene),])\n",
    "  \n",
    "  celltype_deglist_flt_gsea <- lapply(celltype_deglist_flt, gseaobj)\n",
    "  celltype_deglist_flt_gsea_result <- lapply(celltype_deglist_flt_gsea, function(x) {\n",
    "  tryCatch({\n",
    "    x@result\n",
    "  }, error = function(e) {\n",
    "    NULL\n",
    "  })\n",
    "})\n",
    "  celltype_deglist_flt_gsea_plot <- lapply(celltype_deglist_flt_gsea, gseoplot)\n",
    "  celltype_deglist_flt_gsea_plot <- lapply(celltype_deglist_flt_gsea_plot, function(plot) {\n",
    "  plot + ggtitle(paste(comparison, 'HSPC', sep = \" \"))})\n",
    "                                 \n",
    "  celltypes <- names(celltype_deglist_flt_gsea)\n",
    "  \n",
    "  for (i in celltypes){\n",
    "    \n",
    "    print(paste0(\"start gsea plot on \", comparison, \" in \", i))\n",
    "    \n",
    "    tryCatch(\n",
    "      {\n",
    "        \n",
    "        celltype_deglist_flt_gsea_plot[[i]] <-  celltype_deglist_flt_gsea_plot[[i]]+\n",
    "          ggtitle(paste(comparison, i, sep = \" \"))\n",
    "      }, error = function(e) {NULL})\n",
    "  }\n",
    "  \n",
    "  gsea_obj_list[[comparison]] <- celltype_deglist_flt_gsea\n",
    "  gsea_result_list[[comparison]] <- celltype_deglist_flt_gsea_result\n",
    "  gsea_plot_list[[comparison]] <- celltype_deglist_flt_gsea_plot\n",
    "\n",
    "}"
   ]
  },
  {
   "cell_type": "code",
   "execution_count": 98,
   "id": "931d5929-6b33-4cb0-9f9e-d3c96eb821a2",
   "metadata": {},
   "outputs": [],
   "source": [
    "out_dir <- '/data/niecr/cheongj/misc/results_seurat/DGE/pseudobulk/hspc_files/'\n",
    "setwd(out_dir)\n",
    "saveRDS(gsea_obj_list, \"deg_hspc_gsea_obj_list.rds\")\n",
    "saveRDS(gsea_result_list, \"deg_hspc_gsea_result_list.rds\")\n",
    "saveRDS(gsea_plot_list, \"deg_hspc_gsea_plot_list.rds\")"
   ]
  },
  {
   "cell_type": "code",
   "execution_count": 24,
   "id": "f72b87cf-02b7-4c6b-834e-10fd06c85b25",
   "metadata": {},
   "outputs": [
    {
     "data": {
      "text/plain": [
       "$D28_COVID_vs_Baseline_MISC\n",
       "$D28_COVID_vs_Baseline_MISC[[1]]\n",
       "\n",
       "\n",
       "$Baseline_MISC\n",
       "$Baseline_MISC[[1]]\n",
       "\n",
       "\n",
       "$D28_MISC\n",
       "$D28_MISC[[1]]\n",
       "\n",
       "\n",
       "$Baseline_COVID\n",
       "$Baseline_COVID[[1]]\n",
       "\n",
       "\n",
       "$D28_COVID\n",
       "$D28_COVID[[1]]\n",
       "\n",
       "\n",
       "$M12_COVID\n",
       "$M12_COVID[[1]]\n",
       "\n"
      ]
     },
     "metadata": {},
     "output_type": "display_data"
    },
    {
     "data": {
      "text/html": [
       "<strong>png:</strong> 2"
      ],
      "text/latex": [
       "\\textbf{png:} 2"
      ],
      "text/markdown": [
       "**png:** 2"
      ],
      "text/plain": [
       "png \n",
       "  2 "
      ]
     },
     "metadata": {},
     "output_type": "display_data"
    }
   ],
   "source": [
    "out_dir <- '/data/niecr/cheongj/misc/results_seurat/DGE/pseudobulk/hspc_files/'\n",
    "setwd(out_dir)\n",
    "pdf(\"hspc_pseudobulk_gsea_plot_pval0.05.pdf\")\n",
    "gsea_plot_list\n",
    "dev.off()"
   ]
  },
  {
   "cell_type": "code",
   "execution_count": null,
   "id": "f0b4073f-2d1a-410f-9aa2-2e1cb475b639",
   "metadata": {},
   "outputs": [],
   "source": [
    "a <- gsea_result_list\n",
    "sheets_list <- list()\n",
    "for (i in names(a)){\n",
    "    sheets_list[[i]] <- a[[i]]\n",
    "}\n",
    "write.xlsx(sheets_list,'merged_pseudobulk_gsea_pval0.05.xlsx')"
   ]
  },
  {
   "cell_type": "code",
   "execution_count": 7,
   "id": "cab011e4-718c-42d1-a8ce-948bcceb2b59",
   "metadata": {},
   "outputs": [],
   "source": [
    "out_dir <- '/data/niecr/cheongj/misc/results_seurat/DGE/pseudobulk/hspc_files/'\n",
    "setwd(out_dir)"
   ]
  },
  {
   "cell_type": "code",
   "execution_count": 9,
   "id": "79e815a9-6f03-4ab3-947c-c03979d41b07",
   "metadata": {},
   "outputs": [
    {
     "name": "stdout",
     "output_type": "stream",
     "text": [
      "[1] \"D28_COVID_vs_Baseline_MISC\"\n",
      "[1] \"Baseline_MISC\"\n",
      "[1] \"D28_MISC\"\n",
      "[1] \"Baseline_COVID\"\n",
      "[1] \"D28_COVID\"\n",
      "[1] \"M12_COVID\"\n"
     ]
    },
    {
     "name": "stderr",
     "output_type": "stream",
     "text": [
      "Warning message:\n",
      "“\u001b[1m\u001b[22mRemoved 5183 rows containing missing values or values outside the scale range\n",
      "(`geom_text_repel()`).”\n",
      "Warning message:\n",
      "“\u001b[1m\u001b[22mRemoved 5524 rows containing missing values or values outside the scale range\n",
      "(`geom_text_repel()`).”\n",
      "Warning message:\n",
      "“\u001b[1m\u001b[22mRemoved 5390 rows containing missing values or values outside the scale range\n",
      "(`geom_text_repel()`).”\n",
      "Warning message:\n",
      "“\u001b[1m\u001b[22mRemoved 5018 rows containing missing values or values outside the scale range\n",
      "(`geom_text_repel()`).”\n",
      "Warning message:\n",
      "“ggrepel: 39 unlabeled data points (too many overlaps). Consider increasing max.overlaps”\n",
      "Warning message:\n",
      "“ggrepel: 82 unlabeled data points (too many overlaps). Consider increasing max.overlaps”\n",
      "Warning message:\n",
      "“\u001b[1m\u001b[22mRemoved 5526 rows containing missing values or values outside the scale range\n",
      "(`geom_text_repel()`).”\n",
      "Warning message:\n",
      "“\u001b[1m\u001b[22mRemoved 6409 rows containing missing values or values outside the scale range\n",
      "(`geom_text_repel()`).”\n",
      "Warning message:\n",
      "“\u001b[1m\u001b[22mRemoved 4 rows containing missing values or values outside the scale range\n",
      "(`geom_point()`).”\n",
      "Warning message:\n",
      "“\u001b[1m\u001b[22mRemoved 5401 rows containing missing values or values outside the scale range\n",
      "(`geom_text_repel()`).”\n",
      "Warning message:\n",
      "“\u001b[1m\u001b[22mRemoved 3380 rows containing missing values or values outside the scale range\n",
      "(`geom_text_repel()`).”\n",
      "Warning message:\n",
      "“\u001b[1m\u001b[22mRemoved 5678 rows containing missing values or values outside the scale range\n",
      "(`geom_text_repel()`).”\n",
      "Warning message:\n",
      "“\u001b[1m\u001b[22mRemoved 4803 rows containing missing values or values outside the scale range\n",
      "(`geom_text_repel()`).”\n",
      "Warning message:\n",
      "“\u001b[1m\u001b[22mRemoved 1 row containing missing values or values outside the scale range\n",
      "(`geom_point()`).”\n",
      "Warning message:\n",
      "“\u001b[1m\u001b[22mRemoved 5335 rows containing missing values or values outside the scale range\n",
      "(`geom_text_repel()`).”\n",
      "Warning message:\n",
      "“\u001b[1m\u001b[22mRemoved 3893 rows containing missing values or values outside the scale range\n",
      "(`geom_text_repel()`).”\n"
     ]
    },
    {
     "data": {
      "text/plain": [
       "$D28_COVID_vs_Baseline_MISC_HSPC\n",
       "\n",
       "$Baseline_MISC_HSPC\n",
       "\n",
       "$D28_MISC_HSPC\n",
       "\n",
       "$Baseline_COVID_HSPC\n",
       "\n",
       "$D28_COVID_HSPC\n",
       "\n",
       "$M12_COVID_HSPC\n"
      ]
     },
     "metadata": {},
     "output_type": "display_data"
    },
    {
     "data": {
      "text/html": [
       "<strong>png:</strong> 2"
      ],
      "text/latex": [
       "\\textbf{png:} 2"
      ],
      "text/markdown": [
       "**png:** 2"
      ],
      "text/plain": [
       "png \n",
       "  2 "
      ]
     },
     "metadata": {},
     "output_type": "display_data"
    }
   ],
   "source": [
    "volcano_plotlist <- list()\n",
    "for (set in names(bulk_deg_list_res)){\n",
    "  print(set)\n",
    "  \n",
    "  df <- as.data.frame(do.call(cbind,bulk_deg_list_res[[set]]))\n",
    "    \n",
    "    #df <- deg[[celltype]]\n",
    "    \n",
    "    df$sig <- \"non-significant\"\n",
    "df$sig[df$p_adj.loc < 0.05] <- \"significant\"\n",
    "\n",
    "df$direction <- NA\n",
    "df$direction[df$logFC > 0] <- \"up\" \n",
    "df$direction[df$logFC < 0] <- \"down\" \n",
    "\n",
    "df$label <- NA\n",
    "df$label[df$logFC > 0.25 & df$p_adj.loc < 0.05] <- df$gene[df$logFC > 0.25 & df$p_adj.loc < 0.05]\n",
    "df$label[df$logFC < -0.25 & df$p_adj.loc < 0.05] <- df$gene[df$logFC < -0.25 & df$p_adj.loc < 0.05]\n",
    "\n",
    "plot <- ggplot(df, aes(x = logFC, y = -log(p_adj.loc), label = label))+\n",
    "  geom_point()+\n",
    "  geom_point(data = subset(df, sig ==\"significant\"), mapping = aes(color = direction))+\n",
    "  ylab(\"-log(adj.pval)\")+\n",
    "  xlab(\"logFC\")+\n",
    "  xlim(c(-7, 7))+\n",
    "  geom_text_repel(data = subset(df, df$direction== \"up\") ,\n",
    "                  size = 3,\n",
    "                  max.overlaps = 10,\n",
    "                  xlim = c(5,6),\n",
    "                  hjust=0,\n",
    "                  force= 0.1,\n",
    "                  direction =\"y\",\n",
    "                  segment.size = 0.2,\n",
    "                  segment.color = \"grey50\")+\n",
    "  geom_text_repel(data = subset(df, df$direction== \"down\" ) ,\n",
    "                  size = 3,\n",
    "                  max.overlaps = 10,\n",
    "                  xlim = c(-6,-5),\n",
    "                  hjust=0,\n",
    "                  force= 0.1,\n",
    "                  direction =\"y\",\n",
    "                  segment.size = 0.2,\n",
    "                  segment.color = \"grey50\")+\n",
    "  theme_classic()+\n",
    "  scale_color_manual(values =\n",
    "                       rev(wes_palette(n=2, name=\"Darjeeling1\", type = \"discrete\")))+\n",
    "  ggtitle(paste0(\"DEG \",set,\" HSPC\") )\n",
    "    \n",
    "  volcano_plotlist[[paste(set, 'HSPC', sep = \"_\")]] <- plot        \n",
    "}\n",
    "\n",
    "pdf(\"./pseudobulk_deg_volcano.pdf\")\n",
    "volcano_plotlist\n",
    "dev.off()"
   ]
  },
  {
   "cell_type": "code",
   "execution_count": 4,
   "id": "ddba88a9-ecc8-4013-9e0c-cba5c6029ebc",
   "metadata": {},
   "outputs": [],
   "source": [
    "\n"
   ]
  },
  {
   "cell_type": "code",
   "execution_count": null,
   "id": "a31017f2-0285-4603-8c82-93779fec048e",
   "metadata": {},
   "outputs": [],
   "source": []
  }
 ],
 "metadata": {
  "kernelspec": {
   "display_name": "R [conda env:R_jupyter]",
   "language": "R",
   "name": "conda-env-R_jupyter-r"
  },
  "language_info": {
   "codemirror_mode": "r",
   "file_extension": ".r",
   "mimetype": "text/x-r-source",
   "name": "R",
   "pygments_lexer": "r",
   "version": "4.3.3"
  }
 },
 "nbformat": 4,
 "nbformat_minor": 5
}
